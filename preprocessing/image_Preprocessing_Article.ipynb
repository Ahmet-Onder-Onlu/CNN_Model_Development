{
 "cells": [
  {
   "cell_type": "code",
   "execution_count": 1,
   "metadata": {},
   "outputs": [],
   "source": [
    "import os\n",
    "import cv2\n",
    "import numpy as np\n",
    "from skimage import exposure\n",
    "from skimage.restoration import denoise_bilateral\n",
    "import matplotlib.pyplot as plt"
   ]
  },
  {
   "cell_type": "code",
   "execution_count": 2,
   "metadata": {},
   "outputs": [],
   "source": [
    "import os\n",
    "import cv2\n",
    "import numpy as np\n",
    "from skimage import exposure\n",
    "from skimage.restoration import denoise_bilateral\n",
    "import matplotlib.pyplot as plt\n",
    "\n",
    "# Load images from the dataset (Change dir path to your dataset path)\n",
    "file_path = \"/home/user34/Desktop/Dataset\"\n",
    "images = []\n",
    "\n",
    "for folder in os.listdir(file_path):\n",
    "    folder_path = os.path.join(file_path, folder)\n",
    "    if os.path.isdir(folder_path):\n",
    "        for file in os.listdir(folder_path):\n",
    "            if file.endswith(\".jpg\"):\n",
    "                img_path = os.path.join(folder_path, file)\n",
    "                img = cv2.imread(img_path, cv2.IMREAD_GRAYSCALE)\n",
    "                if img is not None:\n",
    "                    images.append(img)\n",
    "                else:\n",
    "                    print(f\"Error reading image: {img_path}\")"
   ]
  },
  {
   "cell_type": "code",
   "execution_count": 3,
   "metadata": {},
   "outputs": [],
   "source": [
    "# 4 different preprocessing techniques (filters)\n",
    "def resize_image(image, size=(256, 256)):\n",
    "    resized_image = cv2.resize(image, size, interpolation=cv2.INTER_AREA)\n",
    "    return resized_image\n",
    "\n",
    "def contrast_stretching(image):\n",
    "    p2, p98 = np.percentile(image, (2, 98))\n",
    "    stretched_image = exposure.rescale_intensity(image, in_range=(p2, p98))\n",
    "    return stretched_image\n",
    "\n",
    "def histogram_equalization(image):\n",
    "    if len(image.shape) == 2:\n",
    "        equalized_image = cv2.equalizeHist(image)\n",
    "    else:\n",
    "        img_yuv = cv2.cvtColor(image, cv2.COLOR_BGR2YUV)\n",
    "        img_yuv[:, :, 0] = cv2.equalizeHist(img_yuv[:, :, 0])\n",
    "        equalized_image = cv2.cvtColor(img_yuv)\n",
    "    return equalized_image\n",
    "\n",
    "def weiner_filtering(image):\n",
    "    filtered_image = denoise_bilateral(image, sigma_color=0.05, sigma_spatial=15)\n",
    "    return filtered_image\n",
    "\n",
    "def preprocess_image(image):\n",
    "    image = contrast_stretching(image)\n",
    "    image = histogram_equalization(image)\n",
    "    image = weiner_filtering(image)\n",
    "    return image"
   ]
  },
  {
   "cell_type": "code",
   "execution_count": null,
   "metadata": {},
   "outputs": [],
   "source": [
    "# Processing processed and unprocessed images / If there is system failure, remove the comment line below and comment the image_p line below.\n",
    "\n",
    "\"\"\"if len(images) >= 5:\n",
    "    images_p = np.array([preprocess_image(image) for image in images[:5]])\n",
    "else:\n",
    "    images_p = np.array([preprocess_image(image) for image in images])\"\"\"\n",
    "\n",
    "images_p = np.array([preprocess_image(image) for image in images])\n",
    "\n",
    "# Show original and processed images\n",
    "plt.figure(figsize=(10, 5))\n",
    "\n",
    "plt.subplot(1, 2, 1)\n",
    "plt.title('Orijinal Görsel')\n",
    "plt.imshow(images[3], cmap='gray')\n",
    "plt.axis('off')\n",
    "\n",
    "plt.subplot(1, 2, 2)\n",
    "plt.title('Eşitlenmiş Görsel')\n",
    "plt.imshow(images_p[3], cmap='gray')\n",
    "plt.axis('off')\n",
    "\n",
    "plt.tight_layout()\n",
    "plt.show()"
   ]
  }
 ],
 "metadata": {
  "kernelspec": {
   "display_name": "myvenv",
   "language": "python",
   "name": "python3"
  },
  "language_info": {
   "codemirror_mode": {
    "name": "ipython",
    "version": 3
   },
   "file_extension": ".py",
   "mimetype": "text/x-python",
   "name": "python",
   "nbconvert_exporter": "python",
   "pygments_lexer": "ipython3",
   "version": "3.12.4"
  }
 },
 "nbformat": 4,
 "nbformat_minor": 2
}
